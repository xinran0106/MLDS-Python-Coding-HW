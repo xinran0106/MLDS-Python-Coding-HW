{
 "cells": [
  {
   "cell_type": "markdown",
   "metadata": {},
   "source": [
    "# Homework 1"
   ]
  },
  {
   "cell_type": "markdown",
   "metadata": {},
   "source": [
    "## Question 1"
   ]
  },
  {
   "cell_type": "markdown",
   "metadata": {},
   "source": [
    "Write a function called `count_words_basic` that takes in the test phrase and returns a dictionary of word counts.\n",
    "\n",
    "**Output:**\n",
    "\n",
    "`{'i': 1,\n",
    " 'bought': 1,\n",
    " 'a': 2,\n",
    " 'sandwich': 1,\n",
    " 'with': 1,\n",
    " 'side': 1,\n",
    " 'of': 1,\n",
    " 'chips': 1}`"
   ]
  },
  {
   "cell_type": "code",
   "execution_count": 1,
   "metadata": {},
   "outputs": [],
   "source": [
    "test_phrase_basic = 'i bought a sandwich with a side of chips'"
   ]
  },
  {
   "cell_type": "code",
   "execution_count": 2,
   "metadata": {},
   "outputs": [],
   "source": [
    "def count_words_basic(text):\n",
    "    # Define an empty dictionary to store word frequencies\n",
    "    dic = {}\n",
    "    \n",
    "    # Iterate through each word in the input text\n",
    "    for word in text.split():\n",
    "        # Check if the word is not in the dictionary\n",
    "        if word not in dic.keys():\n",
    "            # If the word is not present, add it to the dictionary with a count of 1\n",
    "            dic[word] = 1\n",
    "        else:\n",
    "            # If the word is already in the dictionary, increment its count by 1\n",
    "            dic[word] += 1\n",
    "    return dic"
   ]
  },
  {
   "cell_type": "code",
   "execution_count": 3,
   "metadata": {
    "scrolled": true
   },
   "outputs": [
    {
     "data": {
      "text/plain": [
       "{'i': 1,\n",
       " 'bought': 1,\n",
       " 'a': 2,\n",
       " 'sandwich': 1,\n",
       " 'with': 1,\n",
       " 'side': 1,\n",
       " 'of': 1,\n",
       " 'chips': 1}"
      ]
     },
     "execution_count": 3,
     "metadata": {},
     "output_type": "execute_result"
    }
   ],
   "source": [
    "count_words_basic(test_phrase_basic)"
   ]
  },
  {
   "cell_type": "markdown",
   "metadata": {},
   "source": [
    "## Question 2"
   ]
  },
  {
   "cell_type": "markdown",
   "metadata": {},
   "source": [
    "Write a function called `count_words` that takes in the test phrase and returns a dictionary of word counts.\n",
    "  * Step 1: Write a function called `clean_text` that removes a few common punctuation marks (`.,?!'\"`) and makes all the text lowercase.\n",
    "  * Step 2: Write another function called `count_words` that splits a string of text into words and then cleans it using the function `clean_text`."
   ]
  },
  {
   "cell_type": "code",
   "execution_count": 4,
   "metadata": {},
   "outputs": [],
   "source": [
    "test_phrase = 'I bought a sandwich with a side of chips!'"
   ]
  },
  {
   "cell_type": "code",
   "execution_count": 5,
   "metadata": {},
   "outputs": [
    {
     "data": {
      "text/plain": [
       "'i bought a sandwich with a side of chips'"
      ]
     },
     "execution_count": 5,
     "metadata": {},
     "output_type": "execute_result"
    }
   ],
   "source": [
    "def clean_text(text):\n",
    "    # Define a list of punctuation to be removed\n",
    "    punc = [\".\",\",\",\"?\",\"!\",\"'\",\"\\\"\",\"\\n\"]\n",
    "    \n",
    "    # Convert the text to lowercase\n",
    "    text = text.lower()\n",
    "    \n",
    "    # Iterate through each character in the text\n",
    "    for char in text:\n",
    "        # If the character is one of the specified punctuation marks, remove it from the text\n",
    "        if char in punc:\n",
    "            text = text.replace(char, \"\")\n",
    "    # Return the cleaned text\n",
    "    return text\n",
    "\n",
    "clean_text(test_phrase)"
   ]
  },
  {
   "cell_type": "code",
   "execution_count": 6,
   "metadata": {},
   "outputs": [],
   "source": [
    "def count_words(text):\n",
    "    # Call the clean_text function to preprocess the input text\n",
    "    cleaned = clean_text(text)\n",
    "    \n",
    "    # Call the count_words_basic function to count the occurrences of each word\n",
    "    count = count_words_basic(cleaned)\n",
    "    \n",
    "    # Return the dictionary containing word frequencies\n",
    "    return count"
   ]
  },
  {
   "cell_type": "code",
   "execution_count": 7,
   "metadata": {},
   "outputs": [
    {
     "data": {
      "text/plain": [
       "{'i': 1,\n",
       " 'bought': 1,\n",
       " 'a': 2,\n",
       " 'sandwich': 1,\n",
       " 'with': 1,\n",
       " 'side': 1,\n",
       " 'of': 1,\n",
       " 'chips': 1}"
      ]
     },
     "execution_count": 7,
     "metadata": {},
     "output_type": "execute_result"
    }
   ],
   "source": [
    "count_words(test_phrase)"
   ]
  },
  {
   "cell_type": "markdown",
   "metadata": {},
   "source": [
    "## Question 3"
   ]
  },
  {
   "cell_type": "markdown",
   "metadata": {},
   "source": [
    "Write a function called `most_common` that returns the most common word from a string. Explain what the code is actually doing."
   ]
  },
  {
   "cell_type": "code",
   "execution_count": 8,
   "metadata": {},
   "outputs": [],
   "source": [
    "test_phrase = 'I bought a sandwich with a side of chips!'"
   ]
  },
  {
   "cell_type": "code",
   "execution_count": 9,
   "metadata": {},
   "outputs": [],
   "source": [
    "def most_common(text):\n",
    "    # Call the count_words function to obtain a dictionary of word frequencies\n",
    "    counts = count_words(text)\n",
    "    \n",
    "    # Initialize a variable to keep track of the maximum frequency\n",
    "    max_count = 0\n",
    "    \n",
    "    # Iterate through the frequency values in the counts dictionary\n",
    "    for freq in counts.values():\n",
    "        # If a higher frequency is found, update max_count\n",
    "        if freq > max_count:\n",
    "            max_count = freq\n",
    "    \n",
    "    # Find all words with the maximum frequency\n",
    "    most_common_word = [word for word, freq in counts.items() if freq == max_count]\n",
    "    \n",
    "    # Return a list of the most common words\n",
    "    return most_common_word"
   ]
  },
  {
   "cell_type": "code",
   "execution_count": 10,
   "metadata": {},
   "outputs": [
    {
     "data": {
      "text/plain": [
       "['a']"
      ]
     },
     "execution_count": 10,
     "metadata": {},
     "output_type": "execute_result"
    }
   ],
   "source": [
    "most_common(test_phrase)"
   ]
  },
  {
   "cell_type": "markdown",
   "metadata": {},
   "source": [
    "## Question 4"
   ]
  },
  {
   "cell_type": "markdown",
   "metadata": {},
   "source": [
    "Write a function called `count_words_from_file` that allows you to read in a file, clean the text, count the words and return the most common word.\n",
    "\n",
    "**Reminder:** For this homework assignment, there should not be use of any external libraries, so no using pandas.\n",
    "\n",
    "**Hint:** Also remove the `\\n` character in your `clean_text` step, which means \"new line\"."
   ]
  },
  {
   "cell_type": "code",
   "execution_count": 11,
   "metadata": {},
   "outputs": [],
   "source": [
    "file_name = \"peter_pan_chapter_1.txt\""
   ]
  },
  {
   "cell_type": "code",
   "execution_count": 12,
   "metadata": {},
   "outputs": [],
   "source": [
    "def count_words_from_file(file_name):\n",
    "    # Open the specified file in read ('r') mode\n",
    "    with open(file_name, 'r') as file:\n",
    "        # Read all lines from the file into a list\n",
    "        lines = file.readlines()\n",
    "        \n",
    "        # Combine the lines into a single text string\n",
    "        text =  \" \".join(lines)\n",
    "        \n",
    "        # Call the clean_text function to clean the text\n",
    "        cleaned = clean_text(text)\n",
    "        \n",
    "        # Call the most_common function to obtain the most common word\n",
    "        most_common_word = most_common(text)\n",
    "        \n",
    "        # Return the most common word found in the file\n",
    "        return most_common_word"
   ]
  },
  {
   "cell_type": "code",
   "execution_count": 13,
   "metadata": {},
   "outputs": [
    {
     "data": {
      "text/plain": [
       "['the']"
      ]
     },
     "execution_count": 13,
     "metadata": {},
     "output_type": "execute_result"
    }
   ],
   "source": [
    "count_words_from_file(file_name)"
   ]
  },
  {
   "cell_type": "markdown",
   "metadata": {},
   "source": [
    "## Question 5"
   ]
  },
  {
   "cell_type": "markdown",
   "metadata": {},
   "source": [
    "Expand on the previous functions to create a function called `count_words_in_many_documents` that reads in a list of documents, and creates a dictionary of word counts across all the documents."
   ]
  },
  {
   "cell_type": "code",
   "execution_count": 14,
   "metadata": {},
   "outputs": [],
   "source": [
    "documents = ['I enjoyed a delicious homemade lasagna for dinner last night.',\n",
    "            'She ordered a classic Caesar salad for lunch at the restaurant.',\n",
    "            'Breakfast is my favorite meal of the day! I always start with a hearty omelette.',\n",
    "            \"We're having grilled chicken with roasted vegetables for tonight's meal.\",\n",
    "            'On a hot summer day, nothing beats a refreshing fruit salad.',\n",
    "            'They decided to order takeout sushi for a convenient and tasty meal.',\n",
    "            'Thanksgiving dinner is traditionally a feast of turkey, stuffing, and cranberry sauce.',\n",
    "            \"My grandmother's homemade apple pie is the perfect dessert to end any meal.\",\n",
    "            \"Aromatic spices and herbs can transform a simple dish into a culinary masterpiece.\",\n",
    "            \"Exploring street food markets in foreign cities is a delightful way to experience local culture.\",\n",
    "            \"The rich and creamy texture of a perfectly ripe avocado is a true gastronomic pleasure.\",\n",
    "            \"Sushi, with its delicate balance of flavors and textures, is an art form on a plate.\",\n",
    "            \"Homemade apple pie, fresh out of the oven, fills the air with a comforting, cinnamon-infused aroma.\",\n",
    "            \"Savoring a warm bowl of chicken soup on a chilly day is like a hug for the soul.\",\n",
    "            \"Food brings people together, creating lasting memories around the dinner table.\",\n",
    "            \"Discovering new flavors and cuisines is an exciting culinary adventure that broadens the palate.\",\n",
    "            \"Grilling outdoors on a sunny day creates a mouthwatering symphony of sizzling meats and vegetables.\",\n",
    "            \"The joy of sharing a delicious meal with loved ones is one of life's simple pleasures.\"]"
   ]
  },
  {
   "cell_type": "code",
   "execution_count": 15,
   "metadata": {},
   "outputs": [],
   "source": [
    "def count_words_in_many_documents(doc_list):\n",
    "    # Combine the lines from the document list into a single text string\n",
    "    text = \" \".join(doc_list)\n",
    "    \n",
    "    # Call the count_words function to obtain a dictionary of word frequencies\n",
    "    freq = count_words(text)\n",
    "    \n",
    "    # Return the dictionary containing word frequencies across all documents\n",
    "    return freq"
   ]
  },
  {
   "cell_type": "code",
   "execution_count": 16,
   "metadata": {},
   "outputs": [
    {
     "data": {
      "text/plain": [
       "{'i': 2,\n",
       " 'enjoyed': 1,\n",
       " 'a': 20,\n",
       " 'delicious': 2,\n",
       " 'homemade': 3,\n",
       " 'lasagna': 1,\n",
       " 'for': 5,\n",
       " 'dinner': 3,\n",
       " 'last': 1,\n",
       " 'night': 1,\n",
       " 'she': 1,\n",
       " 'ordered': 1,\n",
       " 'classic': 1,\n",
       " 'caesar': 1,\n",
       " 'salad': 2,\n",
       " 'lunch': 1,\n",
       " 'at': 1,\n",
       " 'the': 10,\n",
       " 'restaurant': 1,\n",
       " 'breakfast': 1,\n",
       " 'is': 9,\n",
       " 'my': 2,\n",
       " 'favorite': 1,\n",
       " 'meal': 5,\n",
       " 'of': 9,\n",
       " 'day': 4,\n",
       " 'always': 1,\n",
       " 'start': 1,\n",
       " 'with': 5,\n",
       " 'hearty': 1,\n",
       " 'omelette': 1,\n",
       " 'were': 1,\n",
       " 'having': 1,\n",
       " 'grilled': 1,\n",
       " 'chicken': 2,\n",
       " 'roasted': 1,\n",
       " 'vegetables': 2,\n",
       " 'tonights': 1,\n",
       " 'on': 4,\n",
       " 'hot': 1,\n",
       " 'summer': 1,\n",
       " 'nothing': 1,\n",
       " 'beats': 1,\n",
       " 'refreshing': 1,\n",
       " 'fruit': 1,\n",
       " 'they': 1,\n",
       " 'decided': 1,\n",
       " 'to': 3,\n",
       " 'order': 1,\n",
       " 'takeout': 1,\n",
       " 'sushi': 2,\n",
       " 'convenient': 1,\n",
       " 'and': 7,\n",
       " 'tasty': 1,\n",
       " 'thanksgiving': 1,\n",
       " 'traditionally': 1,\n",
       " 'feast': 1,\n",
       " 'turkey': 1,\n",
       " 'stuffing': 1,\n",
       " 'cranberry': 1,\n",
       " 'sauce': 1,\n",
       " 'grandmothers': 1,\n",
       " 'apple': 2,\n",
       " 'pie': 2,\n",
       " 'perfect': 1,\n",
       " 'dessert': 1,\n",
       " 'end': 1,\n",
       " 'any': 1,\n",
       " 'aromatic': 1,\n",
       " 'spices': 1,\n",
       " 'herbs': 1,\n",
       " 'can': 1,\n",
       " 'transform': 1,\n",
       " 'simple': 2,\n",
       " 'dish': 1,\n",
       " 'into': 1,\n",
       " 'culinary': 2,\n",
       " 'masterpiece': 1,\n",
       " 'exploring': 1,\n",
       " 'street': 1,\n",
       " 'food': 2,\n",
       " 'markets': 1,\n",
       " 'in': 1,\n",
       " 'foreign': 1,\n",
       " 'cities': 1,\n",
       " 'delightful': 1,\n",
       " 'way': 1,\n",
       " 'experience': 1,\n",
       " 'local': 1,\n",
       " 'culture': 1,\n",
       " 'rich': 1,\n",
       " 'creamy': 1,\n",
       " 'texture': 1,\n",
       " 'perfectly': 1,\n",
       " 'ripe': 1,\n",
       " 'avocado': 1,\n",
       " 'true': 1,\n",
       " 'gastronomic': 1,\n",
       " 'pleasure': 1,\n",
       " 'its': 1,\n",
       " 'delicate': 1,\n",
       " 'balance': 1,\n",
       " 'flavors': 2,\n",
       " 'textures': 1,\n",
       " 'an': 2,\n",
       " 'art': 1,\n",
       " 'form': 1,\n",
       " 'plate': 1,\n",
       " 'fresh': 1,\n",
       " 'out': 1,\n",
       " 'oven': 1,\n",
       " 'fills': 1,\n",
       " 'air': 1,\n",
       " 'comforting': 1,\n",
       " 'cinnamon-infused': 1,\n",
       " 'aroma': 1,\n",
       " 'savoring': 1,\n",
       " 'warm': 1,\n",
       " 'bowl': 1,\n",
       " 'soup': 1,\n",
       " 'chilly': 1,\n",
       " 'like': 1,\n",
       " 'hug': 1,\n",
       " 'soul': 1,\n",
       " 'brings': 1,\n",
       " 'people': 1,\n",
       " 'together': 1,\n",
       " 'creating': 1,\n",
       " 'lasting': 1,\n",
       " 'memories': 1,\n",
       " 'around': 1,\n",
       " 'table': 1,\n",
       " 'discovering': 1,\n",
       " 'new': 1,\n",
       " 'cuisines': 1,\n",
       " 'exciting': 1,\n",
       " 'adventure': 1,\n",
       " 'that': 1,\n",
       " 'broadens': 1,\n",
       " 'palate': 1,\n",
       " 'grilling': 1,\n",
       " 'outdoors': 1,\n",
       " 'sunny': 1,\n",
       " 'creates': 1,\n",
       " 'mouthwatering': 1,\n",
       " 'symphony': 1,\n",
       " 'sizzling': 1,\n",
       " 'meats': 1,\n",
       " 'joy': 1,\n",
       " 'sharing': 1,\n",
       " 'loved': 1,\n",
       " 'ones': 1,\n",
       " 'one': 1,\n",
       " 'lifes': 1,\n",
       " 'pleasures': 1}"
      ]
     },
     "execution_count": 16,
     "metadata": {},
     "output_type": "execute_result"
    }
   ],
   "source": [
    "count_words_in_many_documents(documents)"
   ]
  },
  {
   "cell_type": "markdown",
   "metadata": {},
   "source": [
    "## Question 6"
   ]
  },
  {
   "cell_type": "markdown",
   "metadata": {},
   "source": [
    "Create a function called `return_top_n_words` that takes in a dictionary of word counts (output of previous question) and returns the top n words specified by the user. The default value of n should be 3 if the user doesn't specify in a value.\n",
    "\n",
    "**Input:**\n",
    "\n",
    "`return_top_n_words(docs, n=5)`\n",
    "\n",
    "**Output:**\n",
    "\n",
    "`The word 'a' appears 20 times.\n",
    "The word 'the' appears 10 times.\n",
    "The word 'is' appears 9 times.\n",
    "The word 'of' appears 9 times.\n",
    "The word 'and' appears 7 times.\n",
    "`"
   ]
  },
  {
   "cell_type": "code",
   "execution_count": 17,
   "metadata": {},
   "outputs": [],
   "source": [
    "docs = count_words_in_many_documents(documents)"
   ]
  },
  {
   "cell_type": "code",
   "execution_count": 18,
   "metadata": {},
   "outputs": [],
   "source": [
    "def return_top_n_words(doc_dic, n=3):\n",
    "    # Sort the dictionary of word counts by frequency in descending order\n",
    "    sorted_word_freq = sorted(doc_dic.items(), key=lambda x: x[1], reverse=True)\n",
    "    \n",
    "    # Initialize a list to store unique frequencies encountered\n",
    "    unique_freq = []\n",
    "    \n",
    "    # Iterate through sorted word frequencies\n",
    "    for word, count in sorted_word_freq:\n",
    "        # Keep track of the unique frequencies encountered\n",
    "        if count not in unique_freq:\n",
    "            unique_freq.append(count)\n",
    "        \n",
    "        # Print all words that have frequencies among the top n \n",
    "        if count in unique_freq[:n]:\n",
    "            print(\"The word '{0}' appears {1} times.\".format(word, count))    "
   ]
  },
  {
   "cell_type": "code",
   "execution_count": 19,
   "metadata": {},
   "outputs": [
    {
     "name": "stdout",
     "output_type": "stream",
     "text": [
      "The word 'a' appears 20 times.\n",
      "The word 'the' appears 10 times.\n",
      "The word 'is' appears 9 times.\n",
      "The word 'of' appears 9 times.\n",
      "The word 'and' appears 7 times.\n",
      "The word 'for' appears 5 times.\n",
      "The word 'meal' appears 5 times.\n",
      "The word 'with' appears 5 times.\n"
     ]
    }
   ],
   "source": [
    "return_top_n_words(docs, n=5)"
   ]
  },
  {
   "cell_type": "code",
   "execution_count": null,
   "metadata": {},
   "outputs": [],
   "source": []
  }
 ],
 "metadata": {
  "kernelspec": {
   "display_name": "Python 3 (ipykernel)",
   "language": "python",
   "name": "python3"
  },
  "language_info": {
   "codemirror_mode": {
    "name": "ipython",
    "version": 3
   },
   "file_extension": ".py",
   "mimetype": "text/x-python",
   "name": "python",
   "nbconvert_exporter": "python",
   "pygments_lexer": "ipython3",
   "version": "3.10.4"
  }
 },
 "nbformat": 4,
 "nbformat_minor": 4
}
