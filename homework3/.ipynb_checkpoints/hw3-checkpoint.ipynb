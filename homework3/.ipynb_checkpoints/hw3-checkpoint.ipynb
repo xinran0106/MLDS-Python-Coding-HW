{
 "cells": [
  {
   "cell_type": "markdown",
   "id": "682612c0",
   "metadata": {},
   "source": [
    "# Homework 3"
   ]
  },
  {
   "cell_type": "markdown",
   "id": "cc12210f",
   "metadata": {},
   "source": [
    "## Exercise 1 OOP Practice"
   ]
  },
  {
   "cell_type": "markdown",
   "id": "313afff6",
   "metadata": {},
   "source": [
    "1&2"
   ]
  },
  {
   "cell_type": "code",
   "execution_count": 1,
   "id": "30190a1e",
   "metadata": {},
   "outputs": [],
   "source": [
    "class AudioFile:\n",
    "    def __init__(self, title, artist, duration_in_seconds, play_count = 0, like = False):\n",
    "        self.title = title\n",
    "        self.artist = artist\n",
    "        self.duration_in_seconds = duration_in_seconds\n",
    "        self.play_count = play_count\n",
    "        self.like = like\n",
    "    \n",
    "    def print_audio_details(self):\n",
    "        print(self.title,\"by\",self.artist, \"| Play Count:\", self.play_count)\n",
    "    \n",
    "    def heart(self):\n",
    "        self.like = True\n",
    "    \n",
    "    def unheart(self):\n",
    "        self.like = False\n",
    "    \n",
    "    def play(self):\n",
    "        self.play_count += 1\n",
    "        "
   ]
  },
  {
   "cell_type": "markdown",
   "id": "9d8c11e2",
   "metadata": {},
   "source": [
    "3"
   ]
  },
  {
   "cell_type": "code",
   "execution_count": 2,
   "id": "f2baebbf",
   "metadata": {},
   "outputs": [],
   "source": [
    "class Song(AudioFile):\n",
    "    def __init__(self, title, artist, duration_in_seconds, play_count, like, lyrics):\n",
    "        super().__init__(title, artist, duration_in_seconds, play_count, like)\n",
    "        self.lyrics = lyrics\n",
    "    \n",
    "    def words_per_minute(self):\n",
    "        return len(self.lyrics)/(self.duration_in_seconds/60)"
   ]
  },
  {
   "cell_type": "code",
   "execution_count": 3,
   "id": "3a7251b4",
   "metadata": {},
   "outputs": [
    {
     "name": "stdout",
     "output_type": "stream",
     "text": [
      "Shape of You by Ed Sheeran | Play Count: 0\n"
     ]
    },
    {
     "data": {
      "text/plain": [
       "73.39055793991416"
      ]
     },
     "execution_count": 3,
     "metadata": {},
     "output_type": "execute_result"
    }
   ],
   "source": [
    "# create a case of song\n",
    "song1 = Song(\"Shape of You\", \"Ed Sheeran\", 233, 0, False, \n",
    "             \"The club isn't the best place to find a lover So the bar is where I go. Me and my friends at the table doing shots Drinking fast, and then we talk slow. You come over and start up a conversation with just me. And trust me, I'll give it a chance now. Take my hand, stop, put Van the Man\")\n",
    "\n",
    "# print details\n",
    "song1.print_audio_details()\n",
    "# calculate the words per minute\n",
    "song1.words_per_minute()"
   ]
  },
  {
   "cell_type": "markdown",
   "id": "4f4e6704",
   "metadata": {},
   "source": [
    "4"
   ]
  },
  {
   "cell_type": "code",
   "execution_count": 4,
   "id": "612f7a04",
   "metadata": {},
   "outputs": [],
   "source": [
    "class Podcast(AudioFile):\n",
    "    def __init__(self, title, artist, duration_in_seconds, play_count, like, transcript):\n",
    "        super().__init__(title, artist, duration_in_seconds, play_count, like)\n",
    "        self.transcript = transcript\n",
    "        \n",
    "    def words_per_minute(self):\n",
    "        return len(self.transcript)/(self.duration_in_seconds/60)"
   ]
  },
  {
   "cell_type": "code",
   "execution_count": 5,
   "id": "14e8e78d",
   "metadata": {},
   "outputs": [
    {
     "name": "stdout",
     "output_type": "stream",
     "text": [
      "The Science of Space Exploration by Astronauts & Astrophysicists Podcast | Play Count: 0\n"
     ]
    },
    {
     "data": {
      "text/plain": [
       "126.0"
      ]
     },
     "execution_count": 5,
     "metadata": {},
     "output_type": "execute_result"
    }
   ],
   "source": [
    "# create a case of podcast\n",
    "podcast1 = Podcast(\"The Science of Space Exploration\", \"Astronauts & Astrophysicists Podcast\", 180, 0, False,\n",
    "                  \"Welcome to the Astronauts & Astrophysicists Podcast, where we explore the wonders of the universe and the science behind space exploration. I'm your host, Dr. Sarah Collins, and in today's episode, we're delving into the fascinating world of space exploration. Joining me today is Dr. John Anderson, a renowned astrophysicist and professor at the International Space University.\")\n",
    "\n",
    "#print details\n",
    "podcast1.print_audio_details()\n",
    "# calculate the words per minute\n",
    "podcast1.words_per_minute()"
   ]
  },
  {
   "cell_type": "markdown",
   "id": "530ff22f",
   "metadata": {},
   "source": [
    "5"
   ]
  },
  {
   "cell_type": "code",
   "execution_count": 6,
   "id": "06f8a6f9",
   "metadata": {},
   "outputs": [],
   "source": [
    "# create 3 more cases\n",
    "song2 = Song(\"Uptown Funk\", \"Mark Ronson ft. Bruno Mars\",270 ,0, False,\n",
    "            \"This hit, that ice cold Michelle Pfeiffer, that white gold  This one for them good girls Them good girls straight masterpieces Stylin', wilin', livin' it up in the city Got Chucks on with Saint Laurent Got kiss myself, I'm so pretty\")\n",
    "\n",
    "song3 = Song(\"Someone Like You\", \"Adele\", 285, 0, False,\n",
    "            \"I heard that you're settled down That you found a girl and you're married now I heard that your dreams came true Guess she gave you things I didn't give to you Old friend, why are you so shy? Ain't like you to hold back or hide from the light\")\n",
    "\n",
    "podcast2 = Podcast(\"The Future of Artificial Intelligence\", \"Tech Insights Today\", 240, 0, False,\n",
    "                  \"Welcome to Tech Insights Today, the podcast where we explore cutting-edge technology and its impact on our world. I'm your host, Alex Martinez, and in today's episode, we're diving deep into the future of artificial intelligence (AI). Joining me is Dr. Emily Collins, a leading expert in AI research and development.Dr. Collins: Thank you, Alex. It's a pleasure to be here.\")"
   ]
  },
  {
   "cell_type": "code",
   "execution_count": 7,
   "id": "db2fb9a2",
   "metadata": {},
   "outputs": [
    {
     "name": "stdout",
     "output_type": "stream",
     "text": [
      "Shape of You by Ed Sheeran | Play Count: 0\n",
      "Uptown Funk by Mark Ronson ft. Bruno Mars | Play Count: 0\n",
      "Someone Like You by Adele | Play Count: 0\n",
      "The Science of Space Exploration by Astronauts & Astrophysicists Podcast | Play Count: 0\n",
      "The Future of Artificial Intelligence by Tech Insights Today | Play Count: 0\n"
     ]
    }
   ],
   "source": [
    "# put all 5 cases in a list\n",
    "audio_list = [song1,song2,song3,podcast1,podcast2]\n",
    "\n",
    "# print all details\n",
    "for audiofile in audio_list:\n",
    "    audiofile.print_audio_details()"
   ]
  },
  {
   "cell_type": "markdown",
   "id": "d4661762",
   "metadata": {},
   "source": [
    "6"
   ]
  },
  {
   "cell_type": "code",
   "execution_count": 8,
   "id": "9f4d06b5",
   "metadata": {},
   "outputs": [
    {
     "name": "stdout",
     "output_type": "stream",
     "text": [
      "Someone Like You by Adele | Play Count: 1\n",
      "The Future of Artificial Intelligence by Tech Insights Today | Play Count: 1\n",
      "The Science of Space Exploration by Astronauts & Astrophysicists Podcast | Play Count: 1\n",
      "Uptown Funk by Mark Ronson ft. Bruno Mars | Play Count: 1\n",
      "Someone Like You by Adele | Play Count: 2\n",
      "The Future of Artificial Intelligence by Tech Insights Today | Play Count: 2\n",
      "The Science of Space Exploration by Astronauts & Astrophysicists Podcast | Play Count: 2\n",
      "Uptown Funk by Mark Ronson ft. Bruno Mars | Play Count: 2\n",
      "Uptown Funk by Mark Ronson ft. Bruno Mars | Play Count: 3\n",
      "Uptown Funk by Mark Ronson ft. Bruno Mars | Play Count: 4\n",
      "Shape of You by Ed Sheeran | Play Count: 1\n",
      "The Science of Space Exploration by Astronauts & Astrophysicists Podcast | Play Count: 3\n",
      "Shape of You by Ed Sheeran | Play Count: 2\n",
      "The Future of Artificial Intelligence by Tech Insights Today | Play Count: 3\n",
      "Uptown Funk by Mark Ronson ft. Bruno Mars | Play Count: 5\n",
      "Shape of You by Ed Sheeran | Play Count: 3\n",
      "Shape of You by Ed Sheeran | Play Count: 4\n",
      "The Science of Space Exploration by Astronauts & Astrophysicists Podcast | Play Count: 4\n",
      "Someone Like You by Adele | Play Count: 3\n",
      "Uptown Funk by Mark Ronson ft. Bruno Mars | Play Count: 6\n",
      "The Science of Space Exploration by Astronauts & Astrophysicists Podcast | Play Count: 5\n",
      "Someone Like You by Adele | Play Count: 4\n",
      "Shape of You by Ed Sheeran | Play Count: 5\n",
      "Uptown Funk by Mark Ronson ft. Bruno Mars | Play Count: 7\n",
      "The Science of Space Exploration by Astronauts & Astrophysicists Podcast | Play Count: 6\n",
      "The Science of Space Exploration by Astronauts & Astrophysicists Podcast | Play Count: 7\n",
      "Shape of You by Ed Sheeran | Play Count: 6\n",
      "Shape of You by Ed Sheeran | Play Count: 7\n",
      "The Future of Artificial Intelligence by Tech Insights Today | Play Count: 4\n",
      "Someone Like You by Adele | Play Count: 5\n"
     ]
    }
   ],
   "source": [
    "import random\n",
    "\n",
    "# random play 30 files in the list\n",
    "for i in range(30):\n",
    "    audio_pick = audio_list[random.randint(0,4)]\n",
    "    audio_pick.play()\n",
    "    audio_pick.print_audio_details()"
   ]
  },
  {
   "cell_type": "markdown",
   "id": "590e6569",
   "metadata": {},
   "source": [
    "7"
   ]
  },
  {
   "cell_type": "code",
   "execution_count": 9,
   "id": "ce78b5cd",
   "metadata": {},
   "outputs": [
    {
     "name": "stdout",
     "output_type": "stream",
     "text": [
      "before [False, False, False, False, False]\n",
      "after [True, True, False, True, False]\n"
     ]
    }
   ],
   "source": [
    "# check the like status\n",
    "like_list = [a.like for a in audio_list]\n",
    "print(\"before\", like_list)\n",
    "\n",
    "# heart the most-played audio\n",
    "most_playcount = max([a.play_count for a in audio_list])\n",
    "for a in audio_list:\n",
    "    if a.play_count == most_playcount:\n",
    "        a.heart()\n",
    "\n",
    "# check the like status again\n",
    "like_list = [a.like for a in audio_list]\n",
    "print(\"after\", like_list)"
   ]
  },
  {
   "cell_type": "markdown",
   "id": "4ce3c9e1",
   "metadata": {},
   "source": [
    "8"
   ]
  },
  {
   "cell_type": "code",
   "execution_count": 10,
   "id": "73cc6a80",
   "metadata": {},
   "outputs": [],
   "source": [
    "class Playlist:\n",
    "    def __init__(self, playlist_name):\n",
    "        self.playlist_name = playlist_name\n",
    "        self.playlist = []\n",
    "        \n",
    "    def add_audio(self, audio):\n",
    "        self.playlist.append(audio)\n",
    "    \n",
    "    def print_playlist_details(self):\n",
    "        print(\"play list name:\",self.playlist_name)\n",
    "        print(\"Files:\")\n",
    "        for audio_file in self.playlist:\n",
    "            audio_file.print_audio_details()"
   ]
  },
  {
   "cell_type": "code",
   "execution_count": 11,
   "id": "a6bf4f6d",
   "metadata": {},
   "outputs": [
    {
     "name": "stdout",
     "output_type": "stream",
     "text": [
      "play list name: playlist1\n",
      "Files:\n",
      "Shape of You by Ed Sheeran | Play Count: 7\n",
      "Uptown Funk by Mark Ronson ft. Bruno Mars | Play Count: 7\n",
      "Someone Like You by Adele | Play Count: 5\n"
     ]
    }
   ],
   "source": [
    "# create a Playlist\n",
    "playlist1 = Playlist(\"playlist1\")\n",
    "\n",
    "# add three songs to the list\n",
    "playlist1.add_audio(song1)\n",
    "playlist1.add_audio(song2)\n",
    "playlist1.add_audio(song3)\n",
    "\n",
    "# print details\n",
    "playlist1.print_playlist_details()"
   ]
  },
  {
   "cell_type": "markdown",
   "id": "25271d15",
   "metadata": {},
   "source": [
    "## Exercise 2: Pandas Practice"
   ]
  },
  {
   "cell_type": "code",
   "execution_count": 12,
   "id": "2e70bf3c",
   "metadata": {},
   "outputs": [],
   "source": [
    "import pandas as pd\n",
    "\n",
    "# read files\n",
    "df1 = pd.read_csv(\"CollegePlaying.csv\")\n",
    "df2 = pd.read_csv(\"Master.csv\")\n",
    "df3 = pd.read_csv(\"Salaries.csv\")\n",
    "df4 = pd.read_csv(\"Schools.csv\")"
   ]
  },
  {
   "cell_type": "markdown",
   "id": "cdec6eb1",
   "metadata": {},
   "source": [
    "1"
   ]
  },
  {
   "cell_type": "code",
   "execution_count": 13,
   "id": "704504c8",
   "metadata": {},
   "outputs": [
    {
     "data": {
      "text/plain": [
       "schoolID\n",
       "texas         265\n",
       "usc           250\n",
       "stanford      248\n",
       "arizonast     236\n",
       "michigan      191\n",
       "ucla          180\n",
       "holycross     167\n",
       "california    162\n",
       "arizona       161\n",
       "alabama       155\n",
       "Name: playerID, dtype: int64"
      ]
     },
     "execution_count": 13,
     "metadata": {},
     "output_type": "execute_result"
    }
   ],
   "source": [
    "# find the ten schools with the most players\n",
    "df1.groupby(\"schoolID\")[\"playerID\"].count().sort_values(ascending = False).head(10)"
   ]
  },
  {
   "cell_type": "markdown",
   "id": "f2a4e964",
   "metadata": {},
   "source": [
    "The ten schools which have generated the most players are: texas, usc, stanford, arizonast, michigan, ucla, holycross, california, arizona,  and alabama."
   ]
  },
  {
   "cell_type": "markdown",
   "id": "a93148b2",
   "metadata": {},
   "source": [
    "2"
   ]
  },
  {
   "cell_type": "code",
   "execution_count": 14,
   "id": "024182fc",
   "metadata": {},
   "outputs": [
    {
     "data": {
      "text/html": [
       "<div>\n",
       "<style scoped>\n",
       "    .dataframe tbody tr th:only-of-type {\n",
       "        vertical-align: middle;\n",
       "    }\n",
       "\n",
       "    .dataframe tbody tr th {\n",
       "        vertical-align: top;\n",
       "    }\n",
       "\n",
       "    .dataframe thead th {\n",
       "        text-align: right;\n",
       "    }\n",
       "</style>\n",
       "<table border=\"1\" class=\"dataframe\">\n",
       "  <thead>\n",
       "    <tr style=\"text-align: right;\">\n",
       "      <th></th>\n",
       "      <th></th>\n",
       "      <th>salary</th>\n",
       "    </tr>\n",
       "    <tr>\n",
       "      <th>yearID</th>\n",
       "      <th>teamID</th>\n",
       "      <th></th>\n",
       "    </tr>\n",
       "  </thead>\n",
       "  <tbody>\n",
       "    <tr>\n",
       "      <th rowspan=\"5\" valign=\"top\">1985</th>\n",
       "      <th>ATL</th>\n",
       "      <td>14807000</td>\n",
       "    </tr>\n",
       "    <tr>\n",
       "      <th>BAL</th>\n",
       "      <td>11560712</td>\n",
       "    </tr>\n",
       "    <tr>\n",
       "      <th>BOS</th>\n",
       "      <td>10897560</td>\n",
       "    </tr>\n",
       "    <tr>\n",
       "      <th>CAL</th>\n",
       "      <td>14427894</td>\n",
       "    </tr>\n",
       "    <tr>\n",
       "      <th>CHA</th>\n",
       "      <td>9846178</td>\n",
       "    </tr>\n",
       "    <tr>\n",
       "      <th>...</th>\n",
       "      <th>...</th>\n",
       "      <td>...</td>\n",
       "    </tr>\n",
       "    <tr>\n",
       "      <th rowspan=\"5\" valign=\"top\">2014</th>\n",
       "      <th>SLN</th>\n",
       "      <td>120693000</td>\n",
       "    </tr>\n",
       "    <tr>\n",
       "      <th>TBA</th>\n",
       "      <td>72689100</td>\n",
       "    </tr>\n",
       "    <tr>\n",
       "      <th>TEX</th>\n",
       "      <td>112255059</td>\n",
       "    </tr>\n",
       "    <tr>\n",
       "      <th>TOR</th>\n",
       "      <td>109920100</td>\n",
       "    </tr>\n",
       "    <tr>\n",
       "      <th>WAS</th>\n",
       "      <td>131983680</td>\n",
       "    </tr>\n",
       "  </tbody>\n",
       "</table>\n",
       "<p>860 rows × 1 columns</p>\n",
       "</div>"
      ],
      "text/plain": [
       "                  salary\n",
       "yearID teamID           \n",
       "1985   ATL      14807000\n",
       "       BAL      11560712\n",
       "       BOS      10897560\n",
       "       CAL      14427894\n",
       "       CHA       9846178\n",
       "...                  ...\n",
       "2014   SLN     120693000\n",
       "       TBA      72689100\n",
       "       TEX     112255059\n",
       "       TOR     109920100\n",
       "       WAS     131983680\n",
       "\n",
       "[860 rows x 1 columns]"
      ]
     },
     "execution_count": 14,
     "metadata": {},
     "output_type": "execute_result"
    }
   ],
   "source": [
    "# total spent on salaries by each team each year\n",
    "data_salary_t_y = df3.groupby([\"yearID\",\"teamID\"])[[\"salary\"]].sum()\n",
    "data_salary_t_y"
   ]
  },
  {
   "cell_type": "code",
   "execution_count": 15,
   "id": "57e1f706",
   "metadata": {},
   "outputs": [
    {
     "data": {
      "text/html": [
       "<div>\n",
       "<style scoped>\n",
       "    .dataframe tbody tr th:only-of-type {\n",
       "        vertical-align: middle;\n",
       "    }\n",
       "\n",
       "    .dataframe tbody tr th {\n",
       "        vertical-align: top;\n",
       "    }\n",
       "\n",
       "    .dataframe thead th {\n",
       "        text-align: right;\n",
       "    }\n",
       "</style>\n",
       "<table border=\"1\" class=\"dataframe\">\n",
       "  <thead>\n",
       "    <tr style=\"text-align: right;\">\n",
       "      <th></th>\n",
       "      <th>salary</th>\n",
       "    </tr>\n",
       "    <tr>\n",
       "      <th>teamID</th>\n",
       "      <th></th>\n",
       "    </tr>\n",
       "  </thead>\n",
       "  <tbody>\n",
       "    <tr>\n",
       "      <th>NYA</th>\n",
       "      <td>3283119334</td>\n",
       "    </tr>\n",
       "    <tr>\n",
       "      <th>BOS</th>\n",
       "      <td>2432700935</td>\n",
       "    </tr>\n",
       "    <tr>\n",
       "      <th>LAN</th>\n",
       "      <td>2237766703</td>\n",
       "    </tr>\n",
       "  </tbody>\n",
       "</table>\n",
       "</div>"
      ],
      "text/plain": [
       "            salary\n",
       "teamID            \n",
       "NYA     3283119334\n",
       "BOS     2432700935\n",
       "LAN     2237766703"
      ]
     },
     "execution_count": 15,
     "metadata": {},
     "output_type": "execute_result"
    }
   ],
   "source": [
    "# top spend by teams\n",
    "df3.groupby([\"teamID\"])[[\"salary\"]].sum().sort_values(by=\"salary\",ascending=False).head(3)"
   ]
  },
  {
   "cell_type": "code",
   "execution_count": 16,
   "id": "0a1ad416",
   "metadata": {},
   "outputs": [
    {
     "data": {
      "text/html": [
       "<div>\n",
       "<style scoped>\n",
       "    .dataframe tbody tr th:only-of-type {\n",
       "        vertical-align: middle;\n",
       "    }\n",
       "\n",
       "    .dataframe tbody tr th {\n",
       "        vertical-align: top;\n",
       "    }\n",
       "\n",
       "    .dataframe thead th {\n",
       "        text-align: right;\n",
       "    }\n",
       "</style>\n",
       "<table border=\"1\" class=\"dataframe\">\n",
       "  <thead>\n",
       "    <tr style=\"text-align: right;\">\n",
       "      <th></th>\n",
       "      <th>salary</th>\n",
       "    </tr>\n",
       "    <tr>\n",
       "      <th>teamID</th>\n",
       "      <th></th>\n",
       "    </tr>\n",
       "  </thead>\n",
       "  <tbody>\n",
       "    <tr>\n",
       "      <th>NYM</th>\n",
       "      <td>54806990</td>\n",
       "    </tr>\n",
       "    <tr>\n",
       "      <th>SFG</th>\n",
       "      <td>143510167</td>\n",
       "    </tr>\n",
       "    <tr>\n",
       "      <th>MIA</th>\n",
       "      <td>193516800</td>\n",
       "    </tr>\n",
       "  </tbody>\n",
       "</table>\n",
       "</div>"
      ],
      "text/plain": [
       "           salary\n",
       "teamID           \n",
       "NYM      54806990\n",
       "SFG     143510167\n",
       "MIA     193516800"
      ]
     },
     "execution_count": 16,
     "metadata": {},
     "output_type": "execute_result"
    }
   ],
   "source": [
    "# bottom spend by teams\n",
    "df3.groupby([\"teamID\"])[[\"salary\"]].sum().sort_values(by=\"salary\",ascending=True).head(3)"
   ]
  },
  {
   "cell_type": "code",
   "execution_count": 17,
   "id": "117e2572",
   "metadata": {},
   "outputs": [
    {
     "data": {
      "text/html": [
       "<div>\n",
       "<style scoped>\n",
       "    .dataframe tbody tr th:only-of-type {\n",
       "        vertical-align: middle;\n",
       "    }\n",
       "\n",
       "    .dataframe tbody tr th {\n",
       "        vertical-align: top;\n",
       "    }\n",
       "\n",
       "    .dataframe thead th {\n",
       "        text-align: right;\n",
       "    }\n",
       "</style>\n",
       "<table border=\"1\" class=\"dataframe\">\n",
       "  <thead>\n",
       "    <tr style=\"text-align: right;\">\n",
       "      <th></th>\n",
       "      <th>salary</th>\n",
       "    </tr>\n",
       "    <tr>\n",
       "      <th>yearID</th>\n",
       "      <th></th>\n",
       "    </tr>\n",
       "  </thead>\n",
       "  <tbody>\n",
       "    <tr>\n",
       "      <th>2014</th>\n",
       "      <td>3192317623</td>\n",
       "    </tr>\n",
       "    <tr>\n",
       "      <th>2013</th>\n",
       "      <td>3034525648</td>\n",
       "    </tr>\n",
       "    <tr>\n",
       "      <th>2012</th>\n",
       "      <td>2932741192</td>\n",
       "    </tr>\n",
       "  </tbody>\n",
       "</table>\n",
       "</div>"
      ],
      "text/plain": [
       "            salary\n",
       "yearID            \n",
       "2014    3192317623\n",
       "2013    3034525648\n",
       "2012    2932741192"
      ]
     },
     "execution_count": 17,
     "metadata": {},
     "output_type": "execute_result"
    }
   ],
   "source": [
    "# top spend by years\n",
    "df3.groupby([\"yearID\"])[[\"salary\"]].sum().sort_values(by=\"salary\",ascending=False).head(3)"
   ]
  },
  {
   "cell_type": "code",
   "execution_count": 18,
   "id": "964ec78f",
   "metadata": {},
   "outputs": [
    {
     "data": {
      "text/html": [
       "<div>\n",
       "<style scoped>\n",
       "    .dataframe tbody tr th:only-of-type {\n",
       "        vertical-align: middle;\n",
       "    }\n",
       "\n",
       "    .dataframe tbody tr th {\n",
       "        vertical-align: top;\n",
       "    }\n",
       "\n",
       "    .dataframe thead th {\n",
       "        text-align: right;\n",
       "    }\n",
       "</style>\n",
       "<table border=\"1\" class=\"dataframe\">\n",
       "  <thead>\n",
       "    <tr style=\"text-align: right;\">\n",
       "      <th></th>\n",
       "      <th>salary</th>\n",
       "    </tr>\n",
       "    <tr>\n",
       "      <th>yearID</th>\n",
       "      <th></th>\n",
       "    </tr>\n",
       "  </thead>\n",
       "  <tbody>\n",
       "    <tr>\n",
       "      <th>1985</th>\n",
       "      <td>261964696</td>\n",
       "    </tr>\n",
       "    <tr>\n",
       "      <th>1987</th>\n",
       "      <td>272575375</td>\n",
       "    </tr>\n",
       "    <tr>\n",
       "      <th>1988</th>\n",
       "      <td>300452424</td>\n",
       "    </tr>\n",
       "  </tbody>\n",
       "</table>\n",
       "</div>"
      ],
      "text/plain": [
       "           salary\n",
       "yearID           \n",
       "1985    261964696\n",
       "1987    272575375\n",
       "1988    300452424"
      ]
     },
     "execution_count": 18,
     "metadata": {},
     "output_type": "execute_result"
    }
   ],
   "source": [
    "# bottom spend by years\n",
    "df3.groupby([\"yearID\"])[[\"salary\"]].sum().sort_values(by=\"salary\",ascending=True).head(3)"
   ]
  },
  {
   "cell_type": "markdown",
   "id": "a2faf192",
   "metadata": {},
   "source": [
    "To conclude, the top 3 highest spend teams are NYA, BOS, LAN, and the bottom 3 are NYM, SFG, MIA. The top 3 highest spend years are 2014, 2013, 2012, and the bottom 3 are 1985, 1987, 1988."
   ]
  },
  {
   "cell_type": "markdown",
   "id": "75a2cd6b",
   "metadata": {},
   "source": [
    "2"
   ]
  },
  {
   "cell_type": "code",
   "execution_count": 19,
   "id": "44112612",
   "metadata": {},
   "outputs": [
    {
     "data": {
      "text/html": [
       "<div>\n",
       "<style scoped>\n",
       "    .dataframe tbody tr th:only-of-type {\n",
       "        vertical-align: middle;\n",
       "    }\n",
       "\n",
       "    .dataframe tbody tr th {\n",
       "        vertical-align: top;\n",
       "    }\n",
       "\n",
       "    .dataframe thead th {\n",
       "        text-align: right;\n",
       "    }\n",
       "</style>\n",
       "<table border=\"1\" class=\"dataframe\">\n",
       "  <thead>\n",
       "    <tr style=\"text-align: right;\">\n",
       "      <th></th>\n",
       "      <th>weight</th>\n",
       "      <th>height</th>\n",
       "    </tr>\n",
       "    <tr>\n",
       "      <th>yearID</th>\n",
       "      <th></th>\n",
       "      <th></th>\n",
       "    </tr>\n",
       "  </thead>\n",
       "  <tbody>\n",
       "    <tr>\n",
       "      <th>1864</th>\n",
       "      <td>154.000000</td>\n",
       "      <td>68.000000</td>\n",
       "    </tr>\n",
       "    <tr>\n",
       "      <th>1865</th>\n",
       "      <td>154.000000</td>\n",
       "      <td>68.000000</td>\n",
       "    </tr>\n",
       "    <tr>\n",
       "      <th>1866</th>\n",
       "      <td>159.000000</td>\n",
       "      <td>67.500000</td>\n",
       "    </tr>\n",
       "    <tr>\n",
       "      <th>1867</th>\n",
       "      <td>159.000000</td>\n",
       "      <td>67.500000</td>\n",
       "    </tr>\n",
       "    <tr>\n",
       "      <th>1868</th>\n",
       "      <td>159.000000</td>\n",
       "      <td>67.500000</td>\n",
       "    </tr>\n",
       "    <tr>\n",
       "      <th>...</th>\n",
       "      <td>...</td>\n",
       "      <td>...</td>\n",
       "    </tr>\n",
       "    <tr>\n",
       "      <th>2010</th>\n",
       "      <td>210.797101</td>\n",
       "      <td>73.913043</td>\n",
       "    </tr>\n",
       "    <tr>\n",
       "      <th>2011</th>\n",
       "      <td>205.937500</td>\n",
       "      <td>73.812500</td>\n",
       "    </tr>\n",
       "    <tr>\n",
       "      <th>2012</th>\n",
       "      <td>201.666667</td>\n",
       "      <td>73.800000</td>\n",
       "    </tr>\n",
       "    <tr>\n",
       "      <th>2013</th>\n",
       "      <td>194.166667</td>\n",
       "      <td>73.833333</td>\n",
       "    </tr>\n",
       "    <tr>\n",
       "      <th>2014</th>\n",
       "      <td>185.000000</td>\n",
       "      <td>71.000000</td>\n",
       "    </tr>\n",
       "  </tbody>\n",
       "</table>\n",
       "<p>151 rows × 2 columns</p>\n",
       "</div>"
      ],
      "text/plain": [
       "            weight     height\n",
       "yearID                       \n",
       "1864    154.000000  68.000000\n",
       "1865    154.000000  68.000000\n",
       "1866    159.000000  67.500000\n",
       "1867    159.000000  67.500000\n",
       "1868    159.000000  67.500000\n",
       "...            ...        ...\n",
       "2010    210.797101  73.913043\n",
       "2011    205.937500  73.812500\n",
       "2012    201.666667  73.800000\n",
       "2013    194.166667  73.833333\n",
       "2014    185.000000  71.000000\n",
       "\n",
       "[151 rows x 2 columns]"
      ]
     },
     "execution_count": 19,
     "metadata": {},
     "output_type": "execute_result"
    }
   ],
   "source": [
    "# merge df1 and df2\n",
    "data_weight_height_year = pd.merge(df1[[\"playerID\",\"yearID\"]], df2[[\"weight\",\"height\",\"playerID\"]], on=\"playerID\")\n",
    "# find average weight and height each year\n",
    "data_weight_height_year_group = data_weight_height_year.groupby(\"yearID\")[[\"weight\",\"height\"]].mean()\n",
    "data_weight_height_year_group"
   ]
  },
  {
   "cell_type": "code",
   "execution_count": 20,
   "id": "707588c4",
   "metadata": {},
   "outputs": [
    {
     "data": {
      "text/plain": [
       "<Axes: xlabel='yearID'>"
      ]
     },
     "execution_count": 20,
     "metadata": {},
     "output_type": "execute_result"
    },
    {
     "data": {
      "image/png": "[encoded data removed]",
      "text/plain": [
       "<Figure size 432x288 with 1 Axes>"
      ]
     },
     "metadata": {
      "needs_background": "light"
     },
     "output_type": "display_data"
    }
   ],
   "source": [
    "# plot weight vs year\n",
    "data_weight_height_year_group[\"weight\"].plot()"
   ]
  },
  {
   "cell_type": "code",
   "execution_count": 21,
   "id": "a2d552c1",
   "metadata": {},
   "outputs": [
    {
     "data": {
      "text/plain": [
       "<Axes: xlabel='yearID'>"
      ]
     },
     "execution_count": 21,
     "metadata": {},
     "output_type": "execute_result"
    },
    {
     "data": {
      "image/png": "[encoded data removed]",
      "text/plain": [
       "<Figure size 432x288 with 1 Axes>"
      ]
     },
     "metadata": {
      "needs_background": "light"
     },
     "output_type": "display_data"
    }
   ],
   "source": [
    "# plot height vs year\n",
    "data_weight_height_year_group[\"height\"].plot(c=\"red\")"
   ]
  },
  {
   "cell_type": "markdown",
   "id": "4bc0faab",
   "metadata": {},
   "source": [
    "To conclude, both the average weight and height increase when year increases. "
   ]
  },
  {
   "cell_type": "markdown",
   "id": "9d950c6f",
   "metadata": {},
   "source": [
    "4"
   ]
  },
  {
   "cell_type": "code",
   "execution_count": 22,
   "id": "0aa4546a",
   "metadata": {},
   "outputs": [
    {
     "data": {
      "text/plain": [
       "teamID  bats\n",
       "ANA     R       0.611336\n",
       "        L       0.315789\n",
       "        B       0.072874\n",
       "ARI     R       0.616977\n",
       "        L       0.304348\n",
       "                  ...   \n",
       "TOR     L       0.265570\n",
       "        B       0.094007\n",
       "WAS     R       0.627586\n",
       "        L       0.255172\n",
       "        B       0.117241\n",
       "Name: proportion, Length: 111, dtype: float64"
      ]
     },
     "execution_count": 22,
     "metadata": {},
     "output_type": "execute_result"
    }
   ],
   "source": [
    "# merge df2 and df3\n",
    "data_bat_team = pd.merge(df2[[\"playerID\",\"bats\"]], df3[[\"playerID\",\"teamID\"]])\n",
    "# find the percentage of R,L,B in each team\n",
    "data_bat_team.groupby(\"teamID\")[[\"bats\"]].value_counts(normalize=True)"
   ]
  },
  {
   "cell_type": "markdown",
   "id": "17580395",
   "metadata": {},
   "source": [
    "The percentage of players bat right vs left vs both are listed in the above table."
   ]
  },
  {
   "cell_type": "markdown",
   "id": "9035e628",
   "metadata": {},
   "source": [
    "5"
   ]
  },
  {
   "cell_type": "code",
   "execution_count": 23,
   "id": "e2d94ce4",
   "metadata": {},
   "outputs": [
    {
     "name": "stderr",
     "output_type": "stream",
     "text": [
      "C:\\Users\\xinra\\AppData\\Local\\Temp\\ipykernel_26560\\1181423036.py:4: SettingWithCopyWarning: \n",
      "A value is trying to be set on a copy of a slice from a DataFrame.\n",
      "Try using .loc[row_indexer,col_indexer] = value instead\n",
      "\n",
      "See the caveats in the documentation: https://pandas.pydata.org/pandas-docs/stable/user_guide/indexing.html#returning-a-view-versus-a-copy\n",
      "  data_length[\"career length\"] = pd.to_datetime(data_length[\"finalGame\"],format=\"mixed\") - pd.to_datetime(data_length[\"debut\"],format=\"mixed\")\n"
     ]
    },
    {
     "data": {
      "text/html": [
       "<div>\n",
       "<style scoped>\n",
       "    .dataframe tbody tr th:only-of-type {\n",
       "        vertical-align: middle;\n",
       "    }\n",
       "\n",
       "    .dataframe tbody tr th {\n",
       "        vertical-align: top;\n",
       "    }\n",
       "\n",
       "    .dataframe thead th {\n",
       "        text-align: right;\n",
       "    }\n",
       "</style>\n",
       "<table border=\"1\" class=\"dataframe\">\n",
       "  <thead>\n",
       "    <tr style=\"text-align: right;\">\n",
       "      <th></th>\n",
       "      <th>playerID</th>\n",
       "      <th>debut</th>\n",
       "      <th>finalGame</th>\n",
       "      <th>career length</th>\n",
       "    </tr>\n",
       "  </thead>\n",
       "  <tbody>\n",
       "    <tr>\n",
       "      <th>258</th>\n",
       "      <td>altroni01</td>\n",
       "      <td>1898-07-14</td>\n",
       "      <td>10/1/1933</td>\n",
       "      <td>12862 days</td>\n",
       "    </tr>\n",
       "    <tr>\n",
       "      <th>12557</th>\n",
       "      <td>orourji01</td>\n",
       "      <td>1872-04-26</td>\n",
       "      <td>9/22/1904</td>\n",
       "      <td>11836 days</td>\n",
       "    </tr>\n",
       "    <tr>\n",
       "      <th>11476</th>\n",
       "      <td>minosmi01</td>\n",
       "      <td>4/19/1949</td>\n",
       "      <td>10/5/1980</td>\n",
       "      <td>11492 days</td>\n",
       "    </tr>\n",
       "    <tr>\n",
       "      <th>12459</th>\n",
       "      <td>olearch01</td>\n",
       "      <td>4/14/1904</td>\n",
       "      <td>9/30/1934</td>\n",
       "      <td>11126 days</td>\n",
       "    </tr>\n",
       "    <tr>\n",
       "      <th>9420</th>\n",
       "      <td>lathaar01</td>\n",
       "      <td>1880-07-05</td>\n",
       "      <td>9/30/1909</td>\n",
       "      <td>10678 days</td>\n",
       "    </tr>\n",
       "    <tr>\n",
       "      <th>10947</th>\n",
       "      <td>mcguide01</td>\n",
       "      <td>1884-06-21</td>\n",
       "      <td>5/18/1912</td>\n",
       "      <td>10192 days</td>\n",
       "    </tr>\n",
       "    <tr>\n",
       "      <th>8219</th>\n",
       "      <td>jennihu01</td>\n",
       "      <td>1891-06-01</td>\n",
       "      <td>9/2/1918</td>\n",
       "      <td>9954 days</td>\n",
       "    </tr>\n",
       "    <tr>\n",
       "      <th>4994</th>\n",
       "      <td>eversjo01</td>\n",
       "      <td>9/1/1902</td>\n",
       "      <td>10/6/1929</td>\n",
       "      <td>9897 days</td>\n",
       "    </tr>\n",
       "    <tr>\n",
       "      <th>14624</th>\n",
       "      <td>ryanno01</td>\n",
       "      <td>9/11/1966</td>\n",
       "      <td>9/22/1993</td>\n",
       "      <td>9873 days</td>\n",
       "    </tr>\n",
       "    <tr>\n",
       "      <th>16205</th>\n",
       "      <td>streega01</td>\n",
       "      <td>9/13/1904</td>\n",
       "      <td>9/20/1931</td>\n",
       "      <td>9868 days</td>\n",
       "    </tr>\n",
       "  </tbody>\n",
       "</table>\n",
       "</div>"
      ],
      "text/plain": [
       "        playerID       debut  finalGame career length\n",
       "258    altroni01  1898-07-14  10/1/1933    12862 days\n",
       "12557  orourji01  1872-04-26  9/22/1904    11836 days\n",
       "11476  minosmi01   4/19/1949  10/5/1980    11492 days\n",
       "12459  olearch01   4/14/1904  9/30/1934    11126 days\n",
       "9420   lathaar01  1880-07-05  9/30/1909    10678 days\n",
       "10947  mcguide01  1884-06-21  5/18/1912    10192 days\n",
       "8219   jennihu01  1891-06-01   9/2/1918     9954 days\n",
       "4994   eversjo01    9/1/1902  10/6/1929     9897 days\n",
       "14624   ryanno01   9/11/1966  9/22/1993     9873 days\n",
       "16205  streega01   9/13/1904  9/20/1931     9868 days"
      ]
     },
     "execution_count": 23,
     "metadata": {},
     "output_type": "execute_result"
    }
   ],
   "source": [
    "# merge df2 and df3\n",
    "data_length = df2[[\"playerID\",\"debut\",\"finalGame\"]]\n",
    "# change the data type to datetime\n",
    "data_length[\"career length\"] = pd.to_datetime(data_length[\"finalGame\"],format=\"mixed\") - pd.to_datetime(data_length[\"debut\"],format=\"mixed\")\n",
    "data_length.sort_values(by=\"career length\", ascending=False).head(10)"
   ]
  },
  {
   "cell_type": "markdown",
   "id": "08fde3f6",
   "metadata": {},
   "source": [
    "The 10 players with longest career length are listed in the above table"
   ]
  },
  {
   "cell_type": "markdown",
   "id": "d6372b02",
   "metadata": {},
   "source": [
    "6"
   ]
  },
  {
   "cell_type": "code",
   "execution_count": 24,
   "id": "5df474be",
   "metadata": {},
   "outputs": [
    {
     "data": {
      "text/plain": [
       "Text(0, 0.5, 'Counts')"
      ]
     },
     "execution_count": 24,
     "metadata": {},
     "output_type": "execute_result"
    },
    {
     "data": {
      "image/png": "[encoded data removed]",
      "text/plain": [
       "<Figure size 432x288 with 1 Axes>"
      ]
     },
     "metadata": {
      "needs_background": "light"
     },
     "output_type": "display_data"
    }
   ],
   "source": [
    "# find the month of debut\n",
    "data = pd.to_datetime(df2[\"debut\"],format=\"mixed\").dt.month.value_counts().sort_index()\n",
    "\n",
    "# plot\n",
    "import matplotlib.pylab as plt\n",
    "plt.bar(data.index, data.values)\n",
    "plt.xlabel(\"Month\")\n",
    "plt.ylabel(\"Counts\")"
   ]
  },
  {
   "cell_type": "markdown",
   "id": "4e05a90b",
   "metadata": {},
   "source": [
    "The distribution of debut months is shown in the figure above."
   ]
  },
  {
   "cell_type": "markdown",
   "id": "964d5511",
   "metadata": {},
   "source": [
    "7"
   ]
  },
  {
   "cell_type": "code",
   "execution_count": 25,
   "id": "0e45e5a4",
   "metadata": {},
   "outputs": [
    {
     "data": {
      "text/plain": [
       "birthState\n",
       "CA    2115\n",
       "PA    1414\n",
       "NY    1202\n",
       "IL    1051\n",
       "OH    1030\n",
       "Name: count, dtype: int64"
      ]
     },
     "execution_count": 25,
     "metadata": {},
     "output_type": "execute_result"
    }
   ],
   "source": [
    "df2[\"birthState\"].value_counts().head(5)"
   ]
  },
  {
   "cell_type": "markdown",
   "id": "7d8bb86f",
   "metadata": {},
   "source": [
    "The top 5 States with most players are CA, PA, NY, IL, OH"
   ]
  },
  {
   "cell_type": "code",
   "execution_count": 26,
   "id": "c1d9b8dc",
   "metadata": {},
   "outputs": [
    {
     "data": {
      "text/plain": [
       "teamID\n",
       "ML4    6.132436e+05\n",
       "MON    7.074589e+05\n",
       "CAL    7.390732e+05\n",
       "PIT    1.131453e+06\n",
       "FLO    1.147986e+06\n",
       "Name: salary, dtype: float64"
      ]
     },
     "execution_count": 26,
     "metadata": {},
     "output_type": "execute_result"
    }
   ],
   "source": [
    "df3.groupby(\"teamID\")[\"salary\"].mean().sort_values().head(5)"
   ]
  },
  {
   "cell_type": "markdown",
   "id": "941b0170",
   "metadata": {},
   "source": [
    "The top 5 teams with highest average salaries are ML4, MON, CAL, PIL, FLO"
   ]
  }
 ],
 "metadata": {
  "kernelspec": {
   "display_name": "Python 3 (ipykernel)",
   "language": "python",
   "name": "python3"
  },
  "language_info": {
   "codemirror_mode": {
    "name": "ipython",
    "version": 3
   },
   "file_extension": ".py",
   "mimetype": "text/x-python",
   "name": "python",
   "nbconvert_exporter": "python",
   "pygments_lexer": "ipython3",
   "version": "3.10.4"
  }
 },
 "nbformat": 4,
 "nbformat_minor": 5
}
