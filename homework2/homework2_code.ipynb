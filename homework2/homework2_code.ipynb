{
 "cells": [
  {
   "cell_type": "markdown",
   "id": "45daa3be",
   "metadata": {},
   "source": [
    "# Homework 2 "
   ]
  },
  {
   "cell_type": "markdown",
   "id": "e0095cf3",
   "metadata": {},
   "source": [
    "### Exercise 1: Random and Timeit Practice"
   ]
  },
  {
   "cell_type": "markdown",
   "id": "d9d88a4a",
   "metadata": {},
   "source": [
    "Given a list of numbers and words, find the count of each element type in the list.\n",
    "1. Create a function that will randomly generate a list of N numbers and words. Numbers and word counts are random and the order is random too.\n"
   ]
  },
  {
   "cell_type": "code",
   "execution_count": 1,
   "id": "ac9fb48d",
   "metadata": {},
   "outputs": [],
   "source": [
    "import random\n",
    "import string\n",
    "\n",
    "def generate_random_list(N):\n",
    "    random_list = []\n",
    "    for i in range(N):\n",
    "        # choose whether number or word, True for number, False for word\n",
    "        if random.choice([True, False]): \n",
    "            # generate a number\n",
    "            random_number = random.randint(1, 100)\n",
    "            random_list.append(random_number)\n",
    "        else:\n",
    "            # Generate a word of random length between 1 and 10 characters\n",
    "            random_word = ''.join(random.choice(string.ascii_lowercase) for l in range(random.randint(1, 10)))\n",
    "            random_list.append(random_word)\n",
    "            \n",
    "    return random_list"
   ]
  },
  {
   "cell_type": "code",
   "execution_count": 2,
   "id": "4ed99bd3",
   "metadata": {},
   "outputs": [
    {
     "name": "stdout",
     "output_type": "stream",
     "text": [
      "['nzh', 'urvoinrzi', 66, 75, 'fotnkyjbu', 'cbjozf', 'lxawrb', 'ij', 25, 51, 17, 39, 66, 70, 30, 76, 85, 62, 99, 5]\n"
     ]
    }
   ],
   "source": [
    "# Example\n",
    "N = 20 \n",
    "random_list = generate_random_list(N)\n",
    "print(random_list)"
   ]
  },
  {
   "cell_type": "markdown",
   "id": "5d58f10e",
   "metadata": {},
   "source": [
    "2. Create a function to calculate the desired output using loops."
   ]
  },
  {
   "cell_type": "code",
   "execution_count": 3,
   "id": "6ab59516",
   "metadata": {},
   "outputs": [],
   "source": [
    "def count_element_type_forloop(random_list):\n",
    "    count_num = 0\n",
    "    count_word = 0\n",
    "    \n",
    "    # check every element with for loop\n",
    "    for i in random_list:\n",
    "        if isinstance(i, int):\n",
    "            count_num += 1\n",
    "        elif isinstance(i, str):\n",
    "            count_word += 1\n",
    "            \n",
    "    return count_num, count_word"
   ]
  },
  {
   "cell_type": "code",
   "execution_count": 4,
   "id": "f7ec684c",
   "metadata": {},
   "outputs": [
    {
     "name": "stdout",
     "output_type": "stream",
     "text": [
      "number:  14 , word:  6\n"
     ]
    }
   ],
   "source": [
    "# Example\n",
    "count_num, count_word = count_element_type_forloop(random_list)\n",
    "print(\"number: \",count_num,\", word: \",count_word)"
   ]
  },
  {
   "cell_type": "markdown",
   "id": "341baa9b",
   "metadata": {},
   "source": [
    "3. Create a function to calculate the desired output using list comprehension."
   ]
  },
  {
   "cell_type": "code",
   "execution_count": 5,
   "id": "d2940863",
   "metadata": {},
   "outputs": [],
   "source": [
    "def count_element_type_list(random_list):\n",
    "    # use list comprehension\n",
    "    count_num = [i for i in random_list if type(i)==int]\n",
    "    return len(count_num), len(random_list)-len(count_num)"
   ]
  },
  {
   "cell_type": "code",
   "execution_count": 6,
   "id": "b6739c04",
   "metadata": {},
   "outputs": [
    {
     "name": "stdout",
     "output_type": "stream",
     "text": [
      "number:  14 , word:  6\n"
     ]
    }
   ],
   "source": [
    "# Example\n",
    "count_num, count_word = count_element_type_list(random_list)\n",
    "print(\"number: \",count_num,\", word: \",count_word)"
   ]
  },
  {
   "cell_type": "markdown",
   "id": "b84890f1",
   "metadata": {},
   "source": [
    "4. Use the timeit library to check the performance difference between the two solutions for different list sizes (N = 100, 1000, 10000, 100000). Plot the difference using matplotlib. "
   ]
  },
  {
   "cell_type": "code",
   "execution_count": 7,
   "id": "04aeb460",
   "metadata": {},
   "outputs": [],
   "source": [
    "import timeit\n",
    "\n",
    "# wrap the funstions\n",
    "def wrapper_solution_forloop():\n",
    "    count_element_type_forloop(test_list)\n",
    "\n",
    "def wrapper_solution_list():\n",
    "    count_element_type_list(test_list)\n",
    "    \n",
    "# when N=100, generate a test case\n",
    "test_list = generate_random_list(100)\n",
    "# time the two functions\n",
    "time_100_forloop = timeit.timeit(wrapper_solution_forloop, number=1000)\n",
    "time_100_list = timeit.timeit(wrapper_solution_list, number=1000)\n",
    "\n",
    "# when N=1000, generate a test case\n",
    "test_list = generate_random_list(1000)\n",
    "# time the two functions\n",
    "time_1000_forloop = timeit.timeit(wrapper_solution_forloop, number=1000)\n",
    "time_1000_list = timeit.timeit(wrapper_solution_list, number=1000)\n",
    "\n",
    "# when N=10000, generate a test case\n",
    "test_list = generate_random_list(10000)\n",
    "# time the two functions\n",
    "time_10000_forloop = timeit.timeit(wrapper_solution_forloop, number=1000)\n",
    "time_10000_list = timeit.timeit(wrapper_solution_list, number=1000)"
   ]
  },
  {
   "cell_type": "code",
   "execution_count": 8,
   "id": "d1b39930",
   "metadata": {},
   "outputs": [
    {
     "data": {
      "image/png": "[encoded data removed]",
      "text/plain": [
       "<Figure size 432x288 with 1 Axes>"
      ]
     },
     "metadata": {
      "needs_background": "light"
     },
     "output_type": "display_data"
    }
   ],
   "source": [
    "import matplotlib.pyplot as plt\n",
    "import numpy as np\n",
    "\n",
    "plt.rc('lines', linewidth=2.5)\n",
    "fig, ax = plt.subplots()\n",
    "\n",
    "# Plot line for using loop method\n",
    "line1, = ax.plot([100,1000,10000], [time_100_forloop,time_1000_forloop,time_10000_forloop], '-o',label='using loops')\n",
    "\n",
    "# Plot line for using list comprehension method\n",
    "line2, = ax.plot([10,1000,10000], [time_100_list,time_1000_list,time_10000_list], '--o', label='using list comprehension')\n",
    "\n",
    "ax.legend(handlelength=4)\n",
    "ax.set_xlabel(\"N\")\n",
    "ax.set_ylabel(\"Time\")\n",
    "plt.show()"
   ]
  },
  {
   "cell_type": "markdown",
   "id": "992beb68",
   "metadata": {},
   "source": [
    "5. What conclusions can you draw from the results?\n",
    "\n",
    "From the figure, we can find that using list comprehension is faster than using loop, and the difference becomes more obvious as N increases. "
   ]
  },
  {
   "cell_type": "markdown",
   "id": "86c7b2b5",
   "metadata": {},
   "source": [
    "### Exercise 2: The Collections Library"
   ]
  },
  {
   "cell_type": "markdown",
   "id": "b3255060",
   "metadata": {},
   "source": [
    "Create a function that returns the \"beauty\" of a string.\n",
    "\n",
    "1. Create a function that returns the \"beauty\" of a string using a defaultdict (from the Collections library) to store the counts. Apply it to the three test cases."
   ]
  },
  {
   "cell_type": "code",
   "execution_count": 9,
   "id": "e8e9e21b",
   "metadata": {},
   "outputs": [],
   "source": [
    "from collections import defaultdict\n",
    "\n",
    "def beauty_defaultdic(s):\n",
    "    # clean the string\n",
    "    s=\"\".join(filter(str.isalpha, s))\n",
    "    s = s.lower()\n",
    "    \n",
    "    # Create a defaultdict to store character counts\n",
    "    char_counts = defaultdict(int)\n",
    "    # Count the occurrences of each character in the input string\n",
    "    for char in s:\n",
    "        char_counts[char] += 1\n",
    "    \n",
    "    # Sort the dic by counts\n",
    "    sorted_char_counts = sorted(char_counts, key=lambda char: char_counts[char], reverse=True)\n",
    "\n",
    "    # Calculate beauty score\n",
    "    beauty = 26\n",
    "    beauty_score = 0\n",
    "    for char in sorted_char_counts:\n",
    "        beauty_score += beauty * char_counts[char]\n",
    "        beauty -= 1\n",
    "\n",
    "    return beauty_score"
   ]
  },
  {
   "cell_type": "code",
   "execution_count": 10,
   "id": "ed94798a",
   "metadata": {},
   "outputs": [
    {
     "name": "stdout",
     "output_type": "stream",
     "text": [
      "ABbCcc: 152\n",
      "Ignore punctuation, please :): 491\n",
      "Sometimes test cases are hard to make up.: 729\n"
     ]
    }
   ],
   "source": [
    "# Example\n",
    "print(\"ABbCcc:\",beauty_defaultdic(\"ABbCcc\"))\n",
    "print(\"Ignore punctuation, please :):\",beauty_defaultdic(\"Ignore punctuation, please :)\"))\n",
    "print(\"Sometimes test cases are hard to make up.:\",beauty_defaultdic(\"Sometimes test cases are hard to make up.\"))"
   ]
  },
  {
   "cell_type": "markdown",
   "id": "657690fa",
   "metadata": {},
   "source": [
    "2. Create a function that returns the \"beauty\" of a string using Counter (from the Collections library) to store the counts. Apply it to the three test cases."
   ]
  },
  {
   "cell_type": "code",
   "execution_count": 11,
   "id": "7792bb60",
   "metadata": {},
   "outputs": [],
   "source": [
    "from collections import Counter\n",
    "\n",
    "def beauty_Counter(s):\n",
    "    # clean the string\n",
    "    s=\"\".join(filter(str.isalpha, s))\n",
    "    s = s.lower()\n",
    "    \n",
    "    # Use counter to find the character counts\n",
    "    char_counts = Counter(s)\n",
    "    \n",
    "    # Sort the dic by counts\n",
    "    sorted_char_counts = sorted(char_counts, key=lambda char: char_counts[char], reverse=True)\n",
    "\n",
    "    # Calculate beauty score\n",
    "    beauty = 26\n",
    "    beauty_score = 0\n",
    "    for char in sorted_char_counts:\n",
    "        beauty_score += beauty * char_counts[char]\n",
    "        beauty -= 1\n",
    "\n",
    "    return beauty_score"
   ]
  },
  {
   "cell_type": "code",
   "execution_count": 12,
   "id": "aa5f82f2",
   "metadata": {},
   "outputs": [
    {
     "name": "stdout",
     "output_type": "stream",
     "text": [
      "ABbCcc: 152\n",
      "Ignore punctuation, please :): 491\n",
      "Sometimes test cases are hard to make up.: 729\n"
     ]
    }
   ],
   "source": [
    "# Example\n",
    "print(\"ABbCcc:\",beauty_Counter(\"ABbCcc\"))\n",
    "print(\"Ignore punctuation, please :):\",beauty_Counter(\"Ignore punctuation, please :)\"))\n",
    "print(\"Sometimes test cases are hard to make up.:\",beauty_Counter(\"Sometimes test cases are hard to make up.\"))"
   ]
  },
  {
   "cell_type": "markdown",
   "id": "40d63164",
   "metadata": {},
   "source": [
    "3. Compare the two solutions. Explain which one you think is better."
   ]
  },
  {
   "cell_type": "code",
   "execution_count": 13,
   "id": "c7be26b7",
   "metadata": {},
   "outputs": [],
   "source": [
    "# wrap the funstions\n",
    "def wrapper_solution_defaultdic():\n",
    "    beauty_defaultdic(s)\n",
    "\n",
    "def wrapper_solution_Counter():\n",
    "    beauty_Counter(s)\n",
    "\n",
    "# time some examples\n",
    "s = \"ABbCcc\"\n",
    "time_d_1 = timeit.timeit(wrapper_solution_defaultdic, number=10000)\n",
    "time_c_1 = timeit.timeit(wrapper_solution_Counter, number=10000)\n",
    "s = \"Ignore punctuation, please\"\n",
    "time_d_2 = timeit.timeit(wrapper_solution_defaultdic, number=10000)\n",
    "time_c_2 = timeit.timeit(wrapper_solution_Counter, number=10000)\n",
    "s = \"Sometimes test cases are hard to make up.\"\n",
    "time_d_3 = timeit.timeit(wrapper_solution_defaultdic, number=10000)\n",
    "time_c_3 = timeit.timeit(wrapper_solution_Counter, number=10000)\n",
    "s = \"Sometimes test cases are hard to make up and answers are hard to come up as well, so i am trying to type some non sense words to make this sentence longer.\"\n",
    "time_d_4 = timeit.timeit(wrapper_solution_defaultdic, number=10000)\n",
    "time_c_4 = timeit.timeit(wrapper_solution_Counter, number=10000)"
   ]
  },
  {
   "cell_type": "code",
   "execution_count": 14,
   "id": "1a0f72d8",
   "metadata": {},
   "outputs": [
    {
     "data": {
      "text/plain": [
       "<matplotlib.legend.Legend at 0x1a4f27bb6a0>"
      ]
     },
     "execution_count": 14,
     "metadata": {},
     "output_type": "execute_result"
    },
    {
     "data": {
      "image/png": "[encoded data removed]",
      "text/plain": [
       "<Figure size 432x288 with 1 Axes>"
      ]
     },
     "metadata": {
      "needs_background": "light"
     },
     "output_type": "display_data"
    }
   ],
   "source": [
    "# plot the time difference of the two methods in these three examples\n",
    "import matplotlib.pyplot as plt\n",
    "import numpy as np\n",
    "\n",
    "examples = (\"Example 1\", \"Example 2\",\"Example 3\",\"Example 4\")\n",
    "time_dic = {\n",
    "    'Use default dictionary': (time_d_1,time_d_2,time_d_3,time_d_4),\n",
    "    'Use Counter': (time_c_1,time_c_2,time_c_3,time_c_4)\n",
    "}\n",
    "\n",
    "fig, ax = plt.subplots()\n",
    "\n",
    "x = np.arange(len(examples))\n",
    "multiplier = 0\n",
    "width=0.25\n",
    "for method, t in time_dic.items():\n",
    "    offset = width * multiplier\n",
    "    rects = ax.bar(x + offset, t, width, label=method)\n",
    "    ax.bar_label(rects)\n",
    "    multiplier += 1\n",
    "\n",
    "ax.set_ylabel('Time')\n",
    "ax.set_xticks(x + width, examples)\n",
    "ax.legend(loc='upper left')"
   ]
  },
  {
   "cell_type": "markdown",
   "id": "8022cb4f",
   "metadata": {},
   "source": [
    "I think the one use Counter is better since it looks more concise and it takes less time when the sentence is long. "
   ]
  },
  {
   "cell_type": "markdown",
   "id": "5634d412",
   "metadata": {},
   "source": [
    "### Exercise 3: Explore a Library"
   ]
  },
  {
   "cell_type": "markdown",
   "id": "99c5ac93",
   "metadata": {},
   "source": [
    "Pick an extension library from PyPI or other sources (something of interest to you). Summarize the functionality provided by the library (one paragraph) and show a usage example."
   ]
  },
  {
   "cell_type": "markdown",
   "id": "4ed91ff1",
   "metadata": {},
   "source": [
    "One of the interesting Python libraries from PyPI is Beautiful Soup. Beautiful Soup is for web scraping, which helps to extract useful information from HTML and XML documents. It can navigate and search the parse tree, filter elements based on various criteria, such as tag names and text content. It modify the parse tree by adding, removing, or modifying tags and attributes."
   ]
  },
  {
   "cell_type": "code",
   "execution_count": 15,
   "id": "a8f3fe7a",
   "metadata": {},
   "outputs": [
    {
     "name": "stdout",
     "output_type": "stream",
     "text": [
      "Title of the webpage: Google\n",
      "Link Text: Images, Href: https://www.google.com/imghp?hl=en&tab=wi\n",
      "Link Text: Maps, Href: https://maps.google.com/maps?hl=en&tab=wl\n",
      "Link Text: Play, Href: https://play.google.com/?hl=en&tab=w8\n",
      "Link Text: YouTube, Href: https://www.youtube.com/?tab=w1\n",
      "Link Text: News, Href: https://news.google.com/?tab=wn\n",
      "Link Text: Gmail, Href: https://mail.google.com/mail/?tab=wm\n",
      "Link Text: Drive, Href: https://drive.google.com/?tab=wo\n",
      "Link Text: More », Href: https://www.google.com/intl/en/about/products?tab=wh\n",
      "Link Text: Web History, Href: http://www.google.com/history/optout?hl=en\n",
      "Link Text: Settings, Href: /preferences?hl=en\n",
      "Link Text: Sign in, Href: https://accounts.google.com/ServiceLogin?hl=en&passive=true&continue=https://www.google.com/&ec=GAZAAQ\n",
      "Link Text: Advanced search, Href: /advanced_search?hl=en&authuser=0\n",
      "Link Text: New privacy tools to help you, Href: https://www.google.com/url?q=https://blog.google/products/search/new-privacy-tools/&source=hpp&id=19038877&ct=3&usg=AOvVaw1Nvwo5ONqFkQXz8ttfzPq_&sa=X&ved=0ahUKEwj1gLbcgOKBAxWuMjQIHS-EBS0Q8IcBCAU\n",
      "Link Text: Advertising, Href: /intl/en/ads/\n",
      "Link Text: Business Solutions, Href: /services/\n",
      "Link Text: About Google, Href: /intl/en/about.html\n",
      "Link Text: Privacy, Href: /intl/en/policies/privacy/\n",
      "Link Text: Terms, Href: /intl/en/policies/terms/\n"
     ]
    }
   ],
   "source": [
    "# Example\n",
    "from bs4 import BeautifulSoup\n",
    "import requests\n",
    "\n",
    "# make a request to a website and get html\n",
    "response = requests.get(\"https://www.google.com\")\n",
    "html_content = response.text\n",
    "\n",
    "# parse the html content using BeautifulSoup\n",
    "soup = BeautifulSoup(html_content, \"html.parser\")\n",
    "\n",
    "# Find and print the title of the webpage\n",
    "title = soup.title.text\n",
    "print(\"Title of the webpage:\", title)\n",
    "\n",
    "# Find all the links on the webpage and print their text and href attributes\n",
    "links = soup.find_all(\"a\")\n",
    "for link in links:\n",
    "    link_text = link.text\n",
    "    href = link.get(\"href\")\n",
    "    print(f\"Link Text: {link_text}, Href: {href}\")"
   ]
  },
  {
   "cell_type": "markdown",
   "id": "83ce2d47",
   "metadata": {},
   "source": [
    "This example use Beautiful Soup to scrape the Google webpage (https://www.google.com). It makes a request to the website, parses the HTML content, finds the title of the webpage, and extracts all the links, printing their text and href attributes."
   ]
  }
 ],
 "metadata": {
  "kernelspec": {
   "display_name": "Python 3 (ipykernel)",
   "language": "python",
   "name": "python3"
  },
  "language_info": {
   "codemirror_mode": {
    "name": "ipython",
    "version": 3
   },
   "file_extension": ".py",
   "mimetype": "text/x-python",
   "name": "python",
   "nbconvert_exporter": "python",
   "pygments_lexer": "ipython3",
   "version": "3.10.4"
  }
 },
 "nbformat": 4,
 "nbformat_minor": 5
}
